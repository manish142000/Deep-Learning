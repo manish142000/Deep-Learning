{
  "nbformat": 4,
  "nbformat_minor": 0,
  "metadata": {
    "colab": {
      "name": "Untitled12.ipynb",
      "provenance": [],
      "collapsed_sections": []
    },
    "kernelspec": {
      "name": "python3",
      "display_name": "Python 3"
    },
    "language_info": {
      "name": "python"
    }
  },
  "cells": [
    {
      "cell_type": "markdown",
      "source": [
        "Neural Networks"
      ],
      "metadata": {
        "id": "29OFifPCDWF6"
      }
    },
    {
      "cell_type": "markdown",
      "source": [
        "Importing Libraries"
      ],
      "metadata": {
        "id": "cFE8rv1BDhux"
      }
    },
    {
      "cell_type": "code",
      "source": [
        "import numpy as np\n",
        "import matplotlib.pyplot as plt\n",
        "%matplotlib inline"
      ],
      "metadata": {
        "id": "q-t0gbF9DYvg"
      },
      "execution_count": 1,
      "outputs": []
    },
    {
      "cell_type": "markdown",
      "source": [
        "Input vector"
      ],
      "metadata": {
        "id": "w1vxDT_OEVBl"
      }
    },
    {
      "cell_type": "code",
      "source": [
        "X = np.array([[1, 2, 0, 2], [1, 1, 0, 1], [2, 2, 0, 1], [1, 3, 1, 1], [2, 1, 3, 1], [2, 2, 1, 1]]) "
      ],
      "metadata": {
        "id": "S8NlHD0MEW6L"
      },
      "execution_count": 2,
      "outputs": []
    },
    {
      "cell_type": "code",
      "source": [
        "print(\"The input vector is: \", X)\n",
        "print(\"Shape of input vector is: \", X.shape)"
      ],
      "metadata": {
        "colab": {
          "base_uri": "https://localhost:8080/"
        },
        "id": "OObW6OGcEcHy",
        "outputId": "82c2d396-0d4f-4d32-9e53-c131de42ca06"
      },
      "execution_count": 3,
      "outputs": [
        {
          "output_type": "stream",
          "name": "stdout",
          "text": [
            "The input vector is:  [[1 2 0 2]\n",
            " [1 1 0 1]\n",
            " [2 2 0 1]\n",
            " [1 3 1 1]\n",
            " [2 1 3 1]\n",
            " [2 2 1 1]]\n",
            "Shape of input vector is:  (6, 4)\n"
          ]
        }
      ]
    },
    {
      "cell_type": "code",
      "source": [
        "#Converting the input vector into matrix form\n",
        "X = X.T\n",
        "X"
      ],
      "metadata": {
        "colab": {
          "base_uri": "https://localhost:8080/"
        },
        "id": "0jzUSxRsEuWW",
        "outputId": "70a33840-ccb4-4801-ad86-1517f301a861"
      },
      "execution_count": 4,
      "outputs": [
        {
          "output_type": "execute_result",
          "data": {
            "text/plain": [
              "array([[1, 1, 2, 1, 2, 2],\n",
              "       [2, 1, 2, 3, 1, 2],\n",
              "       [0, 0, 0, 1, 3, 1],\n",
              "       [2, 1, 1, 1, 1, 1]])"
            ]
          },
          "metadata": {},
          "execution_count": 4
        }
      ]
    },
    {
      "cell_type": "code",
      "source": [
        "#shape of the input matrix\n",
        "print(\"The shape of input matrix is: \", X.shape)"
      ],
      "metadata": {
        "colab": {
          "base_uri": "https://localhost:8080/"
        },
        "id": "Q3CLMai5E7nJ",
        "outputId": "f972d793-1350-48f3-f87c-ec0ce362f481"
      },
      "execution_count": 5,
      "outputs": [
        {
          "output_type": "stream",
          "name": "stdout",
          "text": [
            "The shape of input matrix is:  (4, 6)\n"
          ]
        }
      ]
    },
    {
      "cell_type": "code",
      "source": [
        "#Output Y of the samples\n",
        "Y = np.array([[1], [0], [1], [1], [0], [1]])"
      ],
      "metadata": {
        "id": "mxeQx8UGFiKV"
      },
      "execution_count": 6,
      "outputs": []
    },
    {
      "cell_type": "code",
      "source": [
        "Y = Y.T\n",
        "print(\"The output of the variable is: \", Y)\n",
        "print(\"The shape of the output is: \", Y.shape)"
      ],
      "metadata": {
        "colab": {
          "base_uri": "https://localhost:8080/"
        },
        "id": "Es7hWZziHs4C",
        "outputId": "80a24f4d-d864-451e-e9b5-d7b3c52fa27c"
      },
      "execution_count": 7,
      "outputs": [
        {
          "output_type": "stream",
          "name": "stdout",
          "text": [
            "The output of the variable is:  [[1 0 1 1 0 1]]\n",
            "The shape of the output is:  (1, 6)\n"
          ]
        }
      ]
    },
    {
      "cell_type": "markdown",
      "source": [
        "The Architecture of Neural Network"
      ],
      "metadata": {
        "id": "PgE7z4D-IGAP"
      }
    },
    {
      "cell_type": "code",
      "source": [
        "input_layer_neurons = X.shape[0]\n",
        "output_layer_neurons = Y.shape[0]\n",
        "hidden_layer_neurons = 5"
      ],
      "metadata": {
        "id": "B0qIfAb0IGkJ"
      },
      "execution_count": 8,
      "outputs": []
    },
    {
      "cell_type": "code",
      "source": [
        "#initializing the weights of Neural Network\n",
        "Wih = np.random.uniform(size = (input_layer_neurons, hidden_layer_neurons))\n",
        "\n",
        "Woh = np.random.uniform(size = (hidden_layer_neurons, output_layer_neurons))\n",
        "\n",
        "Wih.shape, Woh.shape"
      ],
      "metadata": {
        "colab": {
          "base_uri": "https://localhost:8080/"
        },
        "id": "XZQi4PPVJQs2",
        "outputId": "8029a330-98f6-4d06-ee74-7ec6a270e634"
      },
      "execution_count": 9,
      "outputs": [
        {
          "output_type": "execute_result",
          "data": {
            "text/plain": [
              "((4, 5), (5, 1))"
            ]
          },
          "metadata": {},
          "execution_count": 9
        }
      ]
    },
    {
      "cell_type": "markdown",
      "source": [
        "Performing Forward Propagation "
      ],
      "metadata": {
        "id": "0GGDX7F-LIXZ"
      }
    },
    {
      "cell_type": "code",
      "source": [
        "#defining sigmoid activation function\n",
        "def sigmoid(X):\n",
        "  return 1/(1+np.exp(-X))"
      ],
      "metadata": {
        "id": "XkhMLwLILK80"
      },
      "execution_count": 10,
      "outputs": []
    },
    {
      "cell_type": "code",
      "source": [
        "#calculating Z function and activating the first hidden layer\n",
        "hidden_layer_input  = np.dot(Wih.T, X)\n",
        "hidden_layer_activations = sigmoid(hidden_layer_input)"
      ],
      "metadata": {
        "id": "qFiUP1aDLY1B"
      },
      "execution_count": 11,
      "outputs": []
    },
    {
      "cell_type": "code",
      "source": [
        "output_layer_input = np.dot(Woh.T, hidden_layer_activations)\n",
        "output = sigmoid(output_layer_input)"
      ],
      "metadata": {
        "id": "J2WY8MFsNuVa"
      },
      "execution_count": 12,
      "outputs": []
    },
    {
      "cell_type": "code",
      "source": [
        "output"
      ],
      "metadata": {
        "colab": {
          "base_uri": "https://localhost:8080/"
        },
        "id": "0l7m9NkoOcuY",
        "outputId": "a18b40a3-ce14-416a-dfc2-bd22455a0012"
      },
      "execution_count": 13,
      "outputs": [
        {
          "output_type": "execute_result",
          "data": {
            "text/plain": [
              "array([[0.89141511, 0.86938005, 0.89085501, 0.89521061, 0.9019318 ,\n",
              "        0.89769943]])"
            ]
          },
          "metadata": {},
          "execution_count": 13
        }
      ]
    },
    {
      "cell_type": "markdown",
      "source": [
        "Backward Propagation"
      ],
      "metadata": {
        "id": "R5RoYE1yQsDm"
      }
    },
    {
      "cell_type": "markdown",
      "source": [
        "Rate of change of error with respect to Weights between hidden layer and output layer."
      ],
      "metadata": {
        "id": "Aur3N7xiQ8cj"
      }
    },
    {
      "cell_type": "code",
      "source": [
        "## defining learning rate\n",
        "lr = 0.01"
      ],
      "metadata": {
        "id": "NpBxFSnjT-Af"
      },
      "execution_count": 14,
      "outputs": []
    },
    {
      "cell_type": "code",
      "source": [
        "## Error \n",
        "error = np.square(output-Y)/2\n",
        "error"
      ],
      "metadata": {
        "colab": {
          "base_uri": "https://localhost:8080/"
        },
        "id": "O9Nl-Ry3R1wl",
        "outputId": "80531760-5dd3-4f5d-9ade-17faa4452203"
      },
      "execution_count": 15,
      "outputs": [
        {
          "output_type": "execute_result",
          "data": {
            "text/plain": [
              "array([[0.00589534, 0.37791083, 0.00595631, 0.00549041, 0.40674049,\n",
              "        0.0052327 ]])"
            ]
          },
          "metadata": {},
          "execution_count": 15
        }
      ]
    },
    {
      "cell_type": "markdown",
      "source": [
        "To calculate this we will need\n",
        "1. Rate of change of error with respect to output \n",
        "2. Rate of change of output with respect to hidden_layer_output\n",
        "3. Rate of change of Hidden layer output with respect to Weights between hidden layer and output  "
      ],
      "metadata": {
        "id": "pez91qzkRmQt"
      }
    },
    {
      "cell_type": "code",
      "source": [
        "## Rate of change of error with respect to output\n",
        "error_wrt_output = ( output - Y )\n",
        "error_wrt_output"
      ],
      "metadata": {
        "colab": {
          "base_uri": "https://localhost:8080/"
        },
        "id": "h-A3wElESksC",
        "outputId": "44800699-ffcd-4cce-f2a4-ae9b6bdcda75"
      },
      "execution_count": 16,
      "outputs": [
        {
          "output_type": "execute_result",
          "data": {
            "text/plain": [
              "array([[-0.10858489,  0.86938005, -0.10914499, -0.10478939,  0.9019318 ,\n",
              "        -0.10230057]])"
            ]
          },
          "metadata": {},
          "execution_count": 16
        }
      ]
    },
    {
      "cell_type": "code",
      "source": [
        "## Rate of change of output with respect to hidden_layer_output\n",
        "output_wrt_z2 = output * ( 1 - output )\n",
        "output_wrt_z2"
      ],
      "metadata": {
        "colab": {
          "base_uri": "https://localhost:8080/"
        },
        "id": "9EcXEAJkS-YC",
        "outputId": "cec17582-287d-4ff7-9369-be9f28d7cea5"
      },
      "execution_count": 17,
      "outputs": [
        {
          "output_type": "execute_result",
          "data": {
            "text/plain": [
              "array([[0.09679421, 0.11355838, 0.09723236, 0.09380858, 0.08845083,\n",
              "        0.09183516]])"
            ]
          },
          "metadata": {},
          "execution_count": 17
        }
      ]
    },
    {
      "cell_type": "code",
      "source": [
        "## Rate of change of Hidden layer output with respect to Weights between hidden layer and output\n",
        "z2_wrt_Who = hidden_layer_activations\n",
        "z2_wrt_Who"
      ],
      "metadata": {
        "id": "YAY67v5-TQCP",
        "colab": {
          "base_uri": "https://localhost:8080/"
        },
        "outputId": "2e24864b-29e6-4198-c0bc-580b57210143"
      },
      "execution_count": 18,
      "outputs": [
        {
          "output_type": "execute_result",
          "data": {
            "text/plain": [
              "array([[0.96730885, 0.8791202 , 0.95113823, 0.97086021, 0.99106324,\n",
              "        0.97547453],\n",
              "       [0.87142144, 0.77540176, 0.87727843, 0.877827  , 0.95359018,\n",
              "        0.91476651],\n",
              "       [0.92901011, 0.83327173, 0.93134263, 0.96315696, 0.99397911,\n",
              "        0.97228994],\n",
              "       [0.98134345, 0.91161961, 0.98029143, 0.9871936 , 0.97935085,\n",
              "        0.98493998],\n",
              "       [0.96404322, 0.85837145, 0.93214791, 0.96544626, 0.97540841,\n",
              "        0.9585694 ]])"
            ]
          },
          "metadata": {},
          "execution_count": 18
        }
      ]
    },
    {
      "cell_type": "code",
      "source": [
        "Woh = Woh - lr * np.dot(z2_wrt_Who, (error_wrt_output * output_wrt_z2).T)\n",
        "Woh"
      ],
      "metadata": {
        "colab": {
          "base_uri": "https://localhost:8080/"
        },
        "id": "eTyoXHyJTqpU",
        "outputId": "0e32fc27-1a5b-400c-b3c2-51171e10cc9d"
      },
      "execution_count": 19,
      "outputs": [
        {
          "output_type": "execute_result",
          "data": {
            "text/plain": [
              "array([[0.14115573],\n",
              "       [0.53437229],\n",
              "       [0.98130388],\n",
              "       [0.33473919],\n",
              "       [0.2666786 ]])"
            ]
          },
          "metadata": {},
          "execution_count": 19
        }
      ]
    },
    {
      "cell_type": "markdown",
      "source": [
        "Caculating Rate of Change of Error with respect to weights between input layer and hidden layer"
      ],
      "metadata": {
        "id": "mWQbY9MQWC34"
      }
    },
    {
      "cell_type": "markdown",
      "source": [
        "To calculate Rate of Change of Error with respect to weights between input layer and hidden layer, We need :\n",
        "1. rate of change of Error wrt Output layer\n",
        "2. rate of change of Output wrt hidden layer output\n",
        "3. rate of change of hidden layer output wrt hidden layer activation \n",
        "4. rate of change of hidden layer activation wrt hidden layer input\n",
        "5. rate of change of hidden layer input wrt weights between input and hidden layer"
      ],
      "metadata": {
        "id": "efmkFdlHaHBY"
      }
    },
    {
      "cell_type": "code",
      "source": [
        "## rate of change of hidden layer output wrt activation of hidden layer\n",
        "z2_wrt_h1 = Woh\n",
        "z2_wrt_h1"
      ],
      "metadata": {
        "colab": {
          "base_uri": "https://localhost:8080/"
        },
        "id": "41I3Hu6XaHk3",
        "outputId": "56428201-dea2-44d4-c44a-9dc87d92d57c"
      },
      "execution_count": 20,
      "outputs": [
        {
          "output_type": "execute_result",
          "data": {
            "text/plain": [
              "array([[0.14115573],\n",
              "       [0.53437229],\n",
              "       [0.98130388],\n",
              "       [0.33473919],\n",
              "       [0.2666786 ]])"
            ]
          },
          "metadata": {},
          "execution_count": 20
        }
      ]
    },
    {
      "cell_type": "code",
      "source": [
        "## rate of change of hidden layer activation wrt input of hidden layer\n",
        "h1_wrt_z1 = np.multiply(hidden_layer_activations, ( 1 - hidden_layer_activations ))\n",
        "h1_wrt_z1"
      ],
      "metadata": {
        "colab": {
          "base_uri": "https://localhost:8080/"
        },
        "id": "VGyAZt_UavoH",
        "outputId": "1f6f71dd-3667-4586-86e6-5092d887fee8"
      },
      "execution_count": 21,
      "outputs": [
        {
          "output_type": "execute_result",
          "data": {
            "text/plain": [
              "array([[0.03162244, 0.10626787, 0.0464743 , 0.02829066, 0.0088569 ,\n",
              "        0.02392397],\n",
              "       [0.11204611, 0.17415387, 0.10766099, 0.10724676, 0.04425595,\n",
              "        0.07796874],\n",
              "       [0.06595032, 0.13892995, 0.06394353, 0.03548563, 0.00598464,\n",
              "        0.02694221],\n",
              "       [0.01830848, 0.0805693 , 0.01932014, 0.0126424 , 0.02022276,\n",
              "        0.01483321],\n",
              "       [0.03466389, 0.12156991, 0.06324819, 0.03335978, 0.02398684,\n",
              "        0.03971411]])"
            ]
          },
          "metadata": {},
          "execution_count": 21
        }
      ]
    },
    {
      "cell_type": "code",
      "source": [
        "## rate of change of hidden layer input wrt weights between hidden layer and input layer\n",
        "z1_wrt_Wih = X\n",
        "z1_wrt_Wih"
      ],
      "metadata": {
        "colab": {
          "base_uri": "https://localhost:8080/"
        },
        "id": "0N9TMCPdbIMy",
        "outputId": "dd055b29-40a7-4532-ab62-d698c7edad20"
      },
      "execution_count": 22,
      "outputs": [
        {
          "output_type": "execute_result",
          "data": {
            "text/plain": [
              "array([[1, 1, 2, 1, 2, 2],\n",
              "       [2, 1, 2, 3, 1, 2],\n",
              "       [0, 0, 0, 1, 3, 1],\n",
              "       [2, 1, 1, 1, 1, 1]])"
            ]
          },
          "metadata": {},
          "execution_count": 22
        }
      ]
    },
    {
      "cell_type": "code",
      "source": [
        "Wih = Wih - lr * np.dot(z1_wrt_Wih,(h1_wrt_z1*np.dot(z2_wrt_h1,(output_wrt_z2*error_wrt_output))).T)\n",
        "Wih"
      ],
      "metadata": {
        "colab": {
          "base_uri": "https://localhost:8080/"
        },
        "id": "NxSd-lXUndqc",
        "outputId": "92d1f7ce-80bb-4f81-bf4f-af16b631def5"
      },
      "execution_count": 23,
      "outputs": [
        {
          "output_type": "execute_result",
          "data": {
            "text/plain": [
              "array([[0.5808226 , 0.56445289, 0.64629123, 0.70438589, 0.31480509],\n",
              "       [0.40369093, 0.16322642, 0.35200053, 0.86877643, 0.50346527],\n",
              "       [0.71454546, 0.40632106, 0.95035166, 0.27372573, 0.52124747],\n",
              "       [0.99957239, 0.51114744, 0.61037699, 0.76031994, 0.98346547]])"
            ]
          },
          "metadata": {},
          "execution_count": 23
        }
      ]
    },
    {
      "cell_type": "markdown",
      "source": [
        "Training the model"
      ],
      "metadata": {
        "id": "JAVc0Pkwgr8O"
      }
    },
    {
      "cell_type": "code",
      "source": [
        "#defining model Architecture\n",
        "input_layer_neurons = X.shape[0]\n",
        "output_layer_neurons = Y.shape[0]\n",
        "hidden_layer_neurons = 5\n",
        "\n",
        "#initializing weights\n",
        "Wih = np.random.uniform(size = (input_layer_neurons, hidden_layer_neurons))\n",
        "\n",
        "Woh = np.random.uniform(size = (hidden_layer_neurons, output_layer_neurons))\n",
        "\n",
        "#defining parameters\n",
        "lr = 0.01\n",
        "epochs = 1000"
      ],
      "metadata": {
        "id": "WZpzQvU3gtv_"
      },
      "execution_count": 24,
      "outputs": []
    },
    {
      "cell_type": "code",
      "source": [
        "#initial Weights\n",
        "Wih"
      ],
      "metadata": {
        "colab": {
          "base_uri": "https://localhost:8080/"
        },
        "id": "YDtfJlrXg6c_",
        "outputId": "96840244-f27b-4d13-f046-f6b55313ea00"
      },
      "execution_count": 25,
      "outputs": [
        {
          "output_type": "execute_result",
          "data": {
            "text/plain": [
              "array([[0.32998164, 0.29388347, 0.8511634 , 0.42981943, 0.61323418],\n",
              "       [0.91860981, 0.18094836, 0.86757864, 0.16731247, 0.32838043],\n",
              "       [0.32812495, 0.00117566, 0.98302157, 0.07652087, 0.58982053],\n",
              "       [0.30618649, 0.70975559, 0.9486899 , 0.77060692, 0.68803389]])"
            ]
          },
          "metadata": {},
          "execution_count": 25
        }
      ]
    },
    {
      "cell_type": "code",
      "source": [
        "Woh "
      ],
      "metadata": {
        "colab": {
          "base_uri": "https://localhost:8080/"
        },
        "id": "M2yGwhEOhZQ7",
        "outputId": "ddee45ee-915a-4d5e-db10-fde36c06fb95"
      },
      "execution_count": 26,
      "outputs": [
        {
          "output_type": "execute_result",
          "data": {
            "text/plain": [
              "array([[0.58710575],\n",
              "       [0.04681739],\n",
              "       [0.39066544],\n",
              "       [0.44934998],\n",
              "       [0.50124421]])"
            ]
          },
          "metadata": {},
          "execution_count": 26
        }
      ]
    },
    {
      "cell_type": "code",
      "source": [
        "error_epochs = []\n",
        "\n",
        "for i in range(epochs):\n",
        "\n",
        "  #forward Propagation\n",
        "  #hidden layer activations\n",
        "  hidden_layer_input  = np.dot(Wih.T, X)\n",
        "  hidden_layer_activations = sigmoid(hidden_layer_input)\n",
        "\n",
        "  output_layer_input = np.dot(Woh.T, hidden_layer_activations)\n",
        "  output = sigmoid(output_layer_input)\n",
        "\n",
        "  ##Backward Propagation\n",
        "\n",
        "  #calculating error\n",
        "  error = np.square(output-Y)/2\n",
        "  error_wrt_output = ( output - Y )\n",
        "  output_wrt_z2 = output * ( 1 - output )\n",
        "  z2_wrt_Who = hidden_layer_activations\n",
        "  z2_wrt_h1 = Woh\n",
        "  h1_wrt_z1 = np.multiply(hidden_layer_activations, ( 1 - hidden_layer_activations ))\n",
        "  z1_wrt_Wih = X\n",
        "\n",
        "  Woh = Woh - lr * np.dot(z2_wrt_Who, (error_wrt_output * output_wrt_z2).T)\n",
        "  Wih = Wih - lr * np.dot(z1_wrt_Wih,(h1_wrt_z1*np.dot(z2_wrt_h1,(output_wrt_z2*error_wrt_output))).T)\n",
        "\n",
        "  error_epochs.append(np.average(error))"
      ],
      "metadata": {
        "id": "hJGDstyehaAT"
      },
      "execution_count": 27,
      "outputs": []
    },
    {
      "cell_type": "code",
      "source": [
        "Wih"
      ],
      "metadata": {
        "colab": {
          "base_uri": "https://localhost:8080/"
        },
        "id": "Qx5RY7Jji9Gp",
        "outputId": "a30c94f5-824b-4621-ad1f-e0d2acc10ee9"
      },
      "execution_count": 28,
      "outputs": [
        {
          "output_type": "execute_result",
          "data": {
            "text/plain": [
              "array([[ 0.24175936,  0.31442626,  0.84278975,  0.3821143 ,  0.59784313],\n",
              "       [ 0.89756349,  0.14064606,  0.86093352,  0.21329625,  0.34571093],\n",
              "       [ 0.23319212,  0.05823966,  0.98282051, -0.01677927,  0.5833851 ],\n",
              "       [ 0.24391365,  0.71779018,  0.94018761,  0.74533528,  0.67256636]])"
            ]
          },
          "metadata": {},
          "execution_count": 28
        }
      ]
    },
    {
      "cell_type": "code",
      "source": [
        "Woh"
      ],
      "metadata": {
        "colab": {
          "base_uri": "https://localhost:8080/"
        },
        "id": "VfGKeu4GjBB5",
        "outputId": "1ec0d9da-fb98-4159-aa56-27fa196788bd"
      },
      "execution_count": 29,
      "outputs": [
        {
          "output_type": "execute_result",
          "data": {
            "text/plain": [
              "array([[ 0.42282973],\n",
              "       [-0.14775379],\n",
              "       [ 0.06168898],\n",
              "       [ 0.23834194],\n",
              "       [ 0.21667166]])"
            ]
          },
          "metadata": {},
          "execution_count": 29
        }
      ]
    },
    {
      "cell_type": "code",
      "source": [
        "error_epochs"
      ],
      "metadata": {
        "colab": {
          "base_uri": "https://localhost:8080/"
        },
        "id": "8_HG8kYbkTL1",
        "outputId": "f8575e5d-ede0-4a45-8e54-96317a33c8f6"
      },
      "execution_count": 30,
      "outputs": [
        {
          "output_type": "execute_result",
          "data": {
            "text/plain": [
              "[0.12759641449243145,\n",
              " 0.1274576630938442,\n",
              " 0.12731884065998003,\n",
              " 0.12717995783365288,\n",
              " 0.12704102538214668,\n",
              " 0.1269020541948273,\n",
              " 0.12676305528063322,\n",
              " 0.1266240397654446,\n",
              " 0.12648501888933197,\n",
              " 0.12634600400368215,\n",
              " 0.12620700656820288,\n",
              " 0.12606803814780576,\n",
              " 0.12592911040936763,\n",
              " 0.1257902351183711,\n",
              " 0.12565142413542438,\n",
              " 0.12551268941266172,\n",
              " 0.12537404299002466,\n",
              " 0.12523549699142583,\n",
              " 0.12509706362079606,\n",
              " 0.12495875515801642,\n",
              " 0.12482058395473707,\n",
              " 0.1246825624300838,\n",
              " 0.12454470306625547,\n",
              " 0.12440701840401347,\n",
              " 0.12426952103806614,\n",
              " 0.12413222361235032,\n",
              " 0.1239951388152129,\n",
              " 0.12385827937449527,\n",
              " 0.12372165805252365,\n",
              " 0.12358528764100889,\n",
              " 0.12344918095585833,\n",
              " 0.12331335083190458,\n",
              " 0.12317781011755391,\n",
              " 0.12304257166935893,\n",
              " 0.12290764834651935,\n",
              " 0.12277305300531532,\n",
              " 0.1226387984934777,\n",
              " 0.1225048976445,\n",
              " 0.12237136327189696,\n",
              " 0.12223820816341413,\n",
              " 0.12210544507519433,\n",
              " 0.12197308672590547,\n",
              " 0.12184114579083598,\n",
              " 0.12170963489596211,\n",
              " 0.12157856661199416,\n",
              " 0.12144795344840603,\n",
              " 0.12131780784745477,\n",
              " 0.12118814217819553,\n",
              " 0.12105896873049841,\n",
              " 0.12093029970907275,\n",
              " 0.12080214722750515,\n",
              " 0.12067452330231769,\n",
              " 0.120547439847052,\n",
              " 0.1204209086663862,\n",
              " 0.12029494145028992,\n",
              " 0.12016954976822493,\n",
              " 0.12004474506339657,\n",
              " 0.11992053864706313,\n",
              " 0.11979694169290843,\n",
              " 0.11967396523148503,\n",
              " 0.11955162014473304,\n",
              " 0.11942991716058175,\n",
              " 0.11930886684763896,\n",
              " 0.11918847960997496,\n",
              " 0.11906876568200658,\n",
              " 0.11894973512348696,\n",
              " 0.11883139781460711,\n",
              " 0.11871376345121405,\n",
              " 0.11859684154015189,\n",
              " 0.11848064139473041,\n",
              " 0.11836517213032595,\n",
              " 0.11825044266012068,\n",
              " 0.11813646169098367,\n",
              " 0.11802323771949896,\n",
              " 0.11791077902814533,\n",
              " 0.11779909368163072,\n",
              " 0.11768818952338682,\n",
              " 0.11757807417222615,\n",
              " 0.11746875501916577,\n",
              " 0.11736023922442118,\n",
              " 0.11725253371457241,\n",
              " 0.11714564517990626,\n",
              " 0.11703958007193628,\n",
              " 0.11693434460110348,\n",
              " 0.11682994473465895,\n",
              " 0.11672638619473091,\n",
              " 0.1166236744565774,\n",
              " 0.11652181474702573,\n",
              " 0.11642081204309966,\n",
              " 0.1163206710708351,\n",
              " 0.11622139630428456,\n",
              " 0.11612299196471099,\n",
              " 0.11602546201997012,\n",
              " 0.11592881018408162,\n",
              " 0.11583303991698783,\n",
              " 0.1157381544244999,\n",
              " 0.11564415665842957,\n",
              " 0.115551049316905,\n",
              " 0.11545883484487009,\n",
              " 0.11536751543476403,\n",
              " 0.11527709302737983,\n",
              " 0.11518756931289938,\n",
              " 0.11509894573210178,\n",
              " 0.11501122347774319,\n",
              " 0.11492440349610429,\n",
              " 0.11483848648870244,\n",
              " 0.11475347291416547,\n",
              " 0.1146693629902628,\n",
              " 0.11458615669609074,\n",
              " 0.1145038537744078,\n",
              " 0.11442245373411573,\n",
              " 0.11434195585288225,\n",
              " 0.11426235917990131,\n",
              " 0.1141836625387857,\n",
              " 0.11410586453058795,\n",
              " 0.11402896353694474,\n",
              " 0.11395295772333953,\n",
              " 0.11387784504247901,\n",
              " 0.11380362323777797,\n",
              " 0.11373028984694779,\n",
              " 0.11365784220568308,\n",
              " 0.11358627745144163,\n",
              " 0.11351559252731243,\n",
              " 0.11344578418596583,\n",
              " 0.11337684899368182,\n",
              " 0.11330878333444978,\n",
              " 0.11324158341413543,\n",
              " 0.11317524526470919,\n",
              " 0.1131097647485309,\n",
              " 0.11304513756268543,\n",
              " 0.11298135924336433,\n",
              " 0.11291842517028818,\n",
              " 0.11285633057116427,\n",
              " 0.11279507052617521,\n",
              " 0.11273463997249283,\n",
              " 0.11267503370881297,\n",
              " 0.1126162463999057,\n",
              " 0.11255827258117705,\n",
              " 0.11250110666323704,\n",
              " 0.11244474293646954,\n",
              " 0.11238917557559958,\n",
              " 0.11233439864425358,\n",
              " 0.11228040609950886,\n",
              " 0.11222719179642722,\n",
              " 0.1121747494925698,\n",
              " 0.1121230728524885,\n",
              " 0.11207215545219056,\n",
              " 0.11202199078357243,\n",
              " 0.11197257225881975,\n",
              " 0.11192389321476988,\n",
              " 0.11187594691723385,\n",
              " 0.11182872656527425,\n",
              " 0.11178222529543681,\n",
              " 0.11173643618593239,\n",
              " 0.11169135226076633,\n",
              " 0.11164696649381362,\n",
              " 0.11160327181283652,\n",
              " 0.11156026110344286,\n",
              " 0.11151792721298287,\n",
              " 0.111476262954382,\n",
              " 0.11143526110990896,\n",
              " 0.11139491443487588,\n",
              " 0.11135521566127039,\n",
              " 0.11131615750131656,\n",
              " 0.11127773265096515,\n",
              " 0.11123993379331047,\n",
              " 0.11120275360193345,\n",
              " 0.1111661847441699,\n",
              " 0.11113021988430287,\n",
              " 0.11109485168667865,\n",
              " 0.11106007281874568,\n",
              " 0.11102587595401549,\n",
              " 0.11099225377494615,\n",
              " 0.11095919897574669,\n",
              " 0.11092670426510363,\n",
              " 0.11089476236882827,\n",
              " 0.11086336603242551,\n",
              " 0.11083250802358417,\n",
              " 0.11080218113458866,\n",
              " 0.11077237818465237,\n",
              " 0.11074309202217342,\n",
              " 0.1107143155269127,\n",
              " 0.110686041612095,\n",
              " 0.11065826322643367,\n",
              " 0.11063097335607924,\n",
              " 0.11060416502649312,\n",
              " 0.11057783130424675,\n",
              " 0.11055196529874707,\n",
              " 0.1105265601638891,\n",
              " 0.1105016090996368,\n",
              " 0.11047710535353279,\n",
              " 0.11045304222213825,\n",
              " 0.11042941305240374,\n",
              " 0.11040621124297205,\n",
              " 0.11038343024541464,\n",
              " 0.11036106356540193,\n",
              " 0.11033910476380948,\n",
              " 0.11031754745776068,\n",
              " 0.11029638532160753,\n",
              " 0.1102756120878501,\n",
              " 0.11025522154799731,\n",
              " 0.11023520755336817,\n",
              " 0.11021556401583704,\n",
              " 0.11019628490852246,\n",
              " 0.11017736426642204,\n",
              " 0.11015879618699355,\n",
              " 0.11014057483068503,\n",
              " 0.11012269442141354,\n",
              " 0.11010514924699544,\n",
              " 0.11008793365952844,\n",
              " 0.11007104207572721,\n",
              " 0.11005446897721377,\n",
              " 0.11003820891076395,\n",
              " 0.11002225648851144,\n",
              " 0.11000660638811033,\n",
              " 0.10999125335285749,\n",
              " 0.10997619219177697,\n",
              " 0.10996141777966584,\n",
              " 0.10994692505710475,\n",
              " 0.10993270903043334,\n",
              " 0.10991876477169134,\n",
              " 0.109905087418528,\n",
              " 0.10989167217407947,\n",
              " 0.10987851430681668,\n",
              " 0.10986560915036363,\n",
              " 0.1098529521032884,\n",
              " 0.10984053862886685,\n",
              " 0.1098283642548216,\n",
              " 0.10981642457303531,\n",
              " 0.10980471523924161,\n",
              " 0.10979323197269313,\n",
              " 0.10978197055580786,\n",
              " 0.10977092683379597,\n",
              " 0.10976009671426624,\n",
              " 0.10974947616681496,\n",
              " 0.10973906122259673,\n",
              " 0.1097288479738789,\n",
              " 0.1097188325735804,\n",
              " 0.10970901123479554,\n",
              " 0.10969938023030434,\n",
              " 0.10968993589206905,\n",
              " 0.1096806746107189,\n",
              " 0.10967159283502308,\n",
              " 0.10966268707135314,\n",
              " 0.10965395388313508,\n",
              " 0.10964538989029242,\n",
              " 0.10963699176868062,\n",
              " 0.1096287562495134,\n",
              " 0.10962068011878211,\n",
              " 0.10961276021666812,\n",
              " 0.10960499343694956,\n",
              " 0.10959737672640253,\n",
              " 0.10958990708419729,\n",
              " 0.10958258156129048,\n",
              " 0.10957539725981351,\n",
              " 0.10956835133245761,\n",
              " 0.1095614409818564,\n",
              " 0.10955466345996616,\n",
              " 0.10954801606744417,\n",
              " 0.10954149615302611,\n",
              " 0.10953510111290209,\n",
              " 0.1095288283900928,\n",
              " 0.10952267547382503,\n",
              " 0.10951663989890803,\n",
              " 0.10951071924511013,\n",
              " 0.10950491113653647,\n",
              " 0.10949921324100846,\n",
              " 0.10949362326944435,\n",
              " 0.10948813897524234,\n",
              " 0.10948275815366554,\n",
              " 0.1094774786412297,\n",
              " 0.1094722983150938,\n",
              " 0.10946721509245359,\n",
              " 0.1094622269299385,\n",
              " 0.10945733182301211,\n",
              " 0.10945252780537627,\n",
              " 0.10944781294837934,\n",
              " 0.10944318536042831,\n",
              " 0.10943864318640568,\n",
              " 0.10943418460709037,\n",
              " 0.10942980783858346,\n",
              " 0.1094255111317388,\n",
              " 0.10942129277159857,\n",
              " 0.10941715107683385,\n",
              " 0.10941308439919019,\n",
              " 0.10940909112293894,\n",
              " 0.10940516966433345,\n",
              " 0.10940131847107132,\n",
              " 0.10939753602176172,\n",
              " 0.10939382082539878,\n",
              " 0.10939017142084045,\n",
              " 0.1093865863762935,\n",
              " 0.1093830642888039,\n",
              " 0.10937960378375343,\n",
              " 0.10937620351436254,\n",
              " 0.10937286216119851,\n",
              " 0.10936957843169019,\n",
              " 0.10936635105964872,\n",
              " 0.1093631788047942,\n",
              " 0.10936006045228859,\n",
              " 0.10935699481227462,\n",
              " 0.10935398071942097,\n",
              " 0.1093510170324737,\n",
              " 0.10934810263381323,\n",
              " 0.10934523642901828,\n",
              " 0.10934241734643536,\n",
              " 0.10933964433675447,\n",
              " 0.10933691637259109,\n",
              " 0.10933423244807407,\n",
              " 0.1093315915784397,\n",
              " 0.10932899279963171,\n",
              " 0.1093264351679073,\n",
              " 0.10932391775944918,\n",
              " 0.10932143966998359,\n",
              " 0.10931900001440413,\n",
              " 0.10931659792640158,\n",
              " 0.10931423255809936,\n",
              " 0.10931190307969496,\n",
              " 0.1093096086791071,\n",
              " 0.10930734856162848,\n",
              " 0.10930512194958429,\n",
              " 0.10930292808199628,\n",
              " 0.10930076621425232,\n",
              " 0.1092986356177816,\n",
              " 0.10929653557973519,\n",
              " 0.10929446540267197,\n",
              " 0.10929242440425013,\n",
              " 0.10929041191692333,\n",
              " 0.10928842728764304,\n",
              " 0.10928646987756528,\n",
              " 0.10928453906176272,\n",
              " 0.10928263422894184,\n",
              " 0.10928075478116521,\n",
              " 0.10927890013357842,\n",
              " 0.1092770697141422,\n",
              " 0.10927526296336902,\n",
              " 0.1092734793340648,\n",
              " 0.10927171829107497,\n",
              " 0.10926997931103548,\n",
              " 0.10926826188212792,\n",
              " 0.10926656550383991,\n",
              " 0.10926488968672897,\n",
              " 0.10926323395219152,\n",
              " 0.10926159783223603,\n",
              " 0.10925998086925999,\n",
              " 0.10925838261583183,\n",
              " 0.10925680263447629,\n",
              " 0.10925524049746425,\n",
              " 0.10925369578660644,\n",
              " 0.1092521680930512,\n",
              " 0.10925065701708603,\n",
              " 0.10924916216794278,\n",
              " 0.10924768316360722,\n",
              " 0.10924621963063173,\n",
              " 0.10924477120395176,\n",
              " 0.10924333752670608,\n",
              " 0.10924191825006058,\n",
              " 0.10924051303303513,\n",
              " 0.10923912154233449,\n",
              " 0.10923774345218203,\n",
              " 0.109236378444157,\n",
              " 0.10923502620703512,\n",
              " 0.1092336864366323,\n",
              " 0.10923235883565145,\n",
              " 0.10923104311353228,\n",
              " 0.1092297389863046,\n",
              " 0.10922844617644394,\n",
              " 0.1092271644127306,\n",
              " 0.10922589343011148,\n",
              " 0.10922463296956451,\n",
              " 0.10922338277796619,\n",
              " 0.10922214260796154,\n",
              " 0.10922091221783704,\n",
              " 0.10921969137139588,\n",
              " 0.10921847983783613,\n",
              " 0.10921727739163112,\n",
              " 0.10921608381241238,\n",
              " 0.10921489888485551,\n",
              " 0.10921372239856757,\n",
              " 0.10921255414797743,\n",
              " 0.10921139393222856,\n",
              " 0.1092102415550733,\n",
              " 0.10920909682477041,\n",
              " 0.10920795955398377,\n",
              " 0.10920682955968408,\n",
              " 0.10920570666305206,\n",
              " 0.10920459068938386,\n",
              " 0.1092034814679989,\n",
              " 0.10920237883214888,\n",
              " 0.10920128261892949,\n",
              " 0.10920019266919363,\n",
              " 0.1091991088274666,\n",
              " 0.10919803094186308,\n",
              " 0.10919695886400575,\n",
              " 0.10919589244894619,\n",
              " 0.1091948315550869,\n",
              " 0.10919377604410514,\n",
              " 0.1091927257808789,\n",
              " 0.10919168063341371,\n",
              " 0.10919064047277172,\n",
              " 0.10918960517300196,\n",
              " 0.10918857461107223,\n",
              " 0.10918754866680247,\n",
              " 0.10918652722279958,\n",
              " 0.1091855101643937,\n",
              " 0.10918449737957592,\n",
              " 0.10918348875893731,\n",
              " 0.10918248419560916,\n",
              " 0.10918148358520491,\n",
              " 0.10918048682576299,\n",
              " 0.10917949381769117,\n",
              " 0.10917850446371191,\n",
              " 0.10917751866880922,\n",
              " 0.10917653634017647,\n",
              " 0.10917555738716549,\n",
              " 0.10917458172123667,\n",
              " 0.10917360925591031,\n",
              " 0.10917263990671906,\n",
              " 0.10917167359116121,\n",
              " 0.10917071022865547,\n",
              " 0.10916974974049609,\n",
              " 0.10916879204980982,\n",
              " 0.10916783708151297,\n",
              " 0.10916688476227021,\n",
              " 0.10916593502045378,\n",
              " 0.1091649877861038,\n",
              " 0.10916404299088954,\n",
              " 0.10916310056807145,\n",
              " 0.10916216045246412,\n",
              " 0.10916122258039995,\n",
              " 0.10916028688969398,\n",
              " 0.10915935331960906,\n",
              " 0.1091584218108221,\n",
              " 0.10915749230539114,\n",
              " 0.1091565647467229,\n",
              " 0.10915563907954134,\n",
              " 0.10915471524985677,\n",
              " 0.10915379320493573,\n",
              " 0.10915287289327154,\n",
              " 0.10915195426455555,\n",
              " 0.10915103726964909,\n",
              " 0.10915012186055574,\n",
              " 0.10914920799039489,\n",
              " 0.10914829561337523,\n",
              " 0.10914738468476926,\n",
              " 0.10914647516088816,\n",
              " 0.10914556699905743,\n",
              " 0.10914466015759305,\n",
              " 0.10914375459577792,\n",
              " 0.10914285027383931,\n",
              " 0.10914194715292647,\n",
              " 0.10914104519508876,\n",
              " 0.10914014436325464,\n",
              " 0.10913924462121073,\n",
              " 0.10913834593358158,\n",
              " 0.10913744826580984,\n",
              " 0.10913655158413688,\n",
              " 0.10913565585558395,\n",
              " 0.10913476104793367,\n",
              " 0.10913386712971203,\n",
              " 0.10913297407017064,\n",
              " 0.10913208183926981,\n",
              " 0.10913119040766127,\n",
              " 0.10913029974667228,\n",
              " 0.10912940982828932,\n",
              " 0.10912852062514229,\n",
              " 0.10912763211048958,\n",
              " 0.10912674425820283,\n",
              " 0.10912585704275246,\n",
              " 0.10912497043919343,\n",
              " 0.10912408442315129,\n",
              " 0.10912319897080859,\n",
              " 0.10912231405889168,\n",
              " 0.10912142966465764,\n",
              " 0.10912054576588169,\n",
              " 0.10911966234084476,\n",
              " 0.10911877936832158,\n",
              " 0.10911789682756867,\n",
              " 0.10911701469831313,\n",
              " 0.10911613296074102,\n",
              " 0.10911525159548668,\n",
              " 0.10911437058362193,\n",
              " 0.10911348990664556,\n",
              " 0.10911260954647313,\n",
              " 0.10911172948542712,\n",
              " 0.1091108497062269,\n",
              " 0.1091099701919795,\n",
              " 0.10910909092617029,\n",
              " 0.10910821189265361,\n",
              " 0.10910733307564434,\n",
              " 0.109106454459709,\n",
              " 0.1091055760297573,\n",
              " 0.10910469777103406,\n",
              " 0.10910381966911094,\n",
              " 0.10910294170987885,\n",
              " 0.10910206387954004,\n",
              " 0.1091011861646007,\n",
              " 0.10910030855186371,\n",
              " 0.10909943102842144,\n",
              " 0.10909855358164872,\n",
              " 0.10909767619919614,\n",
              " 0.1090967988689834,\n",
              " 0.10909592157919273,\n",
              " 0.10909504431826271,\n",
              " 0.1090941670748819,\n",
              " 0.109093289837983,\n",
              " 0.10909241259673674,\n",
              " 0.10909153534054646,\n",
              " 0.10909065805904207,\n",
              " 0.10908978074207493,\n",
              " 0.10908890337971228,\n",
              " 0.10908802596223222,\n",
              " 0.10908714848011831,\n",
              " 0.10908627092405494,\n",
              " 0.10908539328492221,\n",
              " 0.10908451555379133,\n",
              " 0.10908363772191987,\n",
              " 0.1090827597807474,\n",
              " 0.10908188172189097,\n",
              " 0.10908100353714072,\n",
              " 0.10908012521845596,\n",
              " 0.10907924675796077,\n",
              " 0.10907836814794009,\n",
              " 0.10907748938083595,\n",
              " 0.1090766104492434,\n",
              " 0.10907573134590699,\n",
              " 0.10907485206371714,\n",
              " 0.10907397259570639,\n",
              " 0.10907309293504613,\n",
              " 0.1090722130750431,\n",
              " 0.10907133300913617,\n",
              " 0.10907045273089312,\n",
              " 0.10906957223400743,\n",
              " 0.10906869151229524,\n",
              " 0.10906781055969235,\n",
              " 0.10906692937025136,\n",
              " 0.10906604793813872,\n",
              " 0.10906516625763192,\n",
              " 0.109064284323117,\n",
              " 0.10906340212908555,\n",
              " 0.10906251967013246,\n",
              " 0.1090616369409531,\n",
              " 0.10906075393634106,\n",
              " 0.10905987065118562,\n",
              " 0.10905898708046952,\n",
              " 0.10905810321926657,\n",
              " 0.10905721906273935,\n",
              " 0.10905633460613724,\n",
              " 0.10905544984479405,\n",
              " 0.10905456477412606,\n",
              " 0.10905367938963002,\n",
              " 0.1090527936868811,\n",
              " 0.1090519076615309,\n",
              " 0.10905102130930579,\n",
              " 0.10905013462600471,\n",
              " 0.10904924760749775,\n",
              " 0.1090483602497241,\n",
              " 0.1090474725486905,\n",
              " 0.10904658450046946,\n",
              " 0.10904569610119781,\n",
              " 0.10904480734707485,\n",
              " 0.10904391823436094,\n",
              " 0.10904302875937606,\n",
              " 0.10904213891849816,\n",
              " 0.1090412487081618,\n",
              " 0.10904035812485674,\n",
              " 0.10903946716512664,\n",
              " 0.1090385758255674,\n",
              " 0.10903768410282631,\n",
              " 0.10903679199360039,\n",
              " 0.10903589949463542,\n",
              " 0.10903500660272443,\n",
              " 0.10903411331470685,\n",
              " 0.10903321962746697,\n",
              " 0.10903232553793318,\n",
              " 0.10903143104307657,\n",
              " 0.10903053613991004,\n",
              " 0.10902964082548716,\n",
              " 0.1090287450969011,\n",
              " 0.10902784895128374,\n",
              " 0.10902695238580458,\n",
              " 0.10902605539766998,\n",
              " 0.10902515798412192,\n",
              " 0.10902426014243727,\n",
              " 0.109023361869927,\n",
              " 0.1090224631639351,\n",
              " 0.10902156402183788,\n",
              " 0.10902066444104308,\n",
              " 0.10901976441898903,\n",
              " 0.10901886395314403,\n",
              " 0.10901796304100535,\n",
              " 0.10901706168009866,\n",
              " 0.10901615986797723,\n",
              " 0.10901525760222114,\n",
              " 0.10901435488043681,\n",
              " 0.10901345170025607,\n",
              " 0.10901254805933562,\n",
              " 0.10901164395535635,\n",
              " 0.1090107393860228,\n",
              " 0.10900983434906232,\n",
              " 0.10900892884222475,\n",
              " 0.10900802286328161,\n",
              " 0.10900711641002564,\n",
              " 0.10900620948027019,\n",
              " 0.10900530207184873,\n",
              " 0.1090043941826143,\n",
              " 0.10900348581043884,\n",
              " 0.10900257695321296,\n",
              " 0.10900166760884523,\n",
              " 0.10900075777526179,\n",
              " 0.10899984745040577,\n",
              " 0.10899893663223703,\n",
              " 0.10899802531873147,\n",
              " 0.10899711350788081,\n",
              " 0.10899620119769204,\n",
              " 0.10899528838618687,\n",
              " 0.10899437507140176,\n",
              " 0.10899346125138697,\n",
              " 0.10899254692420658,\n",
              " 0.10899163208793794,\n",
              " 0.10899071674067128,\n",
              " 0.10898980088050943,\n",
              " 0.10898888450556744,\n",
              " 0.10898796761397218,\n",
              " 0.10898705020386211,\n",
              " 0.10898613227338684,\n",
              " 0.1089852138207069,\n",
              " 0.1089842948439933,\n",
              " 0.10898337534142744,\n",
              " 0.10898245531120056,\n",
              " 0.10898153475151362,\n",
              " 0.10898061366057699,\n",
              " 0.1089796920366101,\n",
              " 0.10897876987784129,\n",
              " 0.10897784718250735,\n",
              " 0.10897692394885351,\n",
              " 0.10897600017513298,\n",
              " 0.10897507585960682,\n",
              " 0.10897415100054365,\n",
              " 0.10897322559621947,\n",
              " 0.1089722996449173,\n",
              " 0.10897137314492715,\n",
              " 0.1089704460945456,\n",
              " 0.1089695184920758,\n",
              " 0.10896859033582705,\n",
              " 0.10896766162411471,\n",
              " 0.10896673235526001,\n",
              " 0.1089658025275899,\n",
              " 0.1089648721394366,\n",
              " 0.10896394118913778,\n",
              " 0.10896300967503615,\n",
              " 0.10896207759547931,\n",
              " 0.10896114494881963,\n",
              " 0.1089602117334141,\n",
              " 0.10895927794762404,\n",
              " 0.10895834358981508,\n",
              " 0.108957408658357,\n",
              " 0.10895647315162334,\n",
              " 0.10895553706799162,\n",
              " 0.10895460040584297,\n",
              " 0.10895366316356198,\n",
              " 0.10895272533953661,\n",
              " 0.10895178693215808,\n",
              " 0.1089508479398207,\n",
              " 0.10894990836092172,\n",
              " 0.10894896819386131,\n",
              " 0.10894802743704224,\n",
              " 0.10894708608886995,\n",
              " 0.10894614414775233,\n",
              " 0.10894520161209968,\n",
              " 0.10894425848032452,\n",
              " 0.10894331475084144,\n",
              " 0.10894237042206717,\n",
              " 0.10894142549242025,\n",
              " 0.10894047996032123,\n",
              " 0.10893953382419218,\n",
              " 0.10893858708245684,\n",
              " 0.10893763973354054,\n",
              " 0.10893669177587001,\n",
              " 0.10893574320787332,\n",
              " 0.10893479402797984,\n",
              " 0.10893384423461995,\n",
              " 0.10893289382622529,\n",
              " 0.10893194280122835,\n",
              " 0.10893099115806264,\n",
              " 0.10893003889516244,\n",
              " 0.10892908601096278,\n",
              " 0.10892813250389938,\n",
              " 0.10892717837240855,\n",
              " 0.1089262236149272,\n",
              " 0.10892526822989251,\n",
              " 0.10892431221574227,\n",
              " 0.10892335557091443,\n",
              " 0.10892239829384727,\n",
              " 0.10892144038297917,\n",
              " 0.10892048183674874,\n",
              " 0.10891952265359452,\n",
              " 0.10891856283195517,\n",
              " 0.10891760237026915,\n",
              " 0.10891664126697496,\n",
              " 0.10891567952051075,\n",
              " 0.10891471712931454,\n",
              " 0.10891375409182401,\n",
              " 0.10891279040647646,\n",
              " 0.10891182607170885,\n",
              " 0.10891086108595771,\n",
              " 0.10890989544765894,\n",
              " 0.10890892915524801,\n",
              " 0.10890796220715972,\n",
              " 0.10890699460182822,\n",
              " 0.10890602633768705,\n",
              " 0.10890505741316885,\n",
              " 0.10890408782670559,\n",
              " 0.1089031175767284,\n",
              " 0.10890214666166743,\n",
              " 0.10890117507995206,\n",
              " 0.10890020283001062,\n",
              " 0.1088992299102704,\n",
              " 0.1088982563191578,\n",
              " 0.10889728205509804,\n",
              " 0.10889630711651511,\n",
              " 0.1088953315018321,\n",
              " 0.10889435520947068,\n",
              " 0.10889337823785146,\n",
              " 0.10889240058539366,\n",
              " 0.10889142225051525,\n",
              " 0.10889044323163292,\n",
              " 0.1088894635271619,\n",
              " 0.10888848313551604,\n",
              " 0.10888750205510787,\n",
              " 0.1088865202843483,\n",
              " 0.10888553782164682,\n",
              " 0.10888455466541146,\n",
              " 0.10888357081404852,\n",
              " 0.10888258626596296,\n",
              " 0.10888160101955789,\n",
              " 0.10888061507323492,\n",
              " 0.1088796284253939,\n",
              " 0.10887864107443312,\n",
              " 0.10887765301874903,\n",
              " 0.10887666425673632,\n",
              " 0.10887567478678802,\n",
              " 0.10887468460729526,\n",
              " 0.1088736937166473,\n",
              " 0.10887270211323168,\n",
              " 0.10887170979543402,\n",
              " 0.10887071676163794,\n",
              " 0.10886972301022528,\n",
              " 0.1088687285395758,\n",
              " 0.10886773334806744,\n",
              " 0.108866737434076,\n",
              " 0.10886574079597533,\n",
              " 0.10886474343213726,\n",
              " 0.10886374534093156,\n",
              " 0.10886274652072586,\n",
              " 0.10886174696988575,\n",
              " 0.10886074668677465,\n",
              " 0.10885974566975391,\n",
              " 0.10885874391718266,\n",
              " 0.10885774142741782,\n",
              " 0.1088567381988142,\n",
              " 0.10885573422972432,\n",
              " 0.10885472951849844,\n",
              " 0.10885372406348465,\n",
              " 0.10885271786302868,\n",
              " 0.10885171091547402,\n",
              " 0.10885070321916183,\n",
              " 0.10884969477243088,\n",
              " 0.10884868557361767,\n",
              " 0.10884767562105631,\n",
              " 0.10884666491307855,\n",
              " 0.10884565344801363,\n",
              " 0.10884464122418851,\n",
              " 0.10884362823992762,\n",
              " 0.108842614493553,\n",
              " 0.10884159998338418,\n",
              " 0.10884058470773822,\n",
              " 0.1088395686649297,\n",
              " 0.10883855185327067,\n",
              " 0.10883753427107062,\n",
              " 0.10883651591663655,\n",
              " 0.10883549678827287,\n",
              " 0.1088344768842814,\n",
              " 0.10883345620296132,\n",
              " 0.10883243474260935,\n",
              " 0.10883141250151947,\n",
              " 0.10883038947798307,\n",
              " 0.10882936567028885,\n",
              " 0.10882834107672285,\n",
              " 0.10882731569556847,\n",
              " 0.10882628952510642,\n",
              " 0.10882526256361462,\n",
              " 0.10882423480936838,\n",
              " 0.10882320626064017,\n",
              " 0.1088221769156998,\n",
              " 0.10882114677281424,\n",
              " 0.10882011583024774,\n",
              " 0.10881908408626177,\n",
              " 0.10881805153911488,\n",
              " 0.10881701818706292,\n",
              " 0.10881598402835896,\n",
              " 0.10881494906125304,\n",
              " 0.10881391328399254,\n",
              " 0.10881287669482176,\n",
              " 0.10881183929198236,\n",
              " 0.10881080107371292,\n",
              " 0.10880976203824916,\n",
              " 0.10880872218382394,\n",
              " 0.10880768150866715,\n",
              " 0.10880664001100566,\n",
              " 0.1088055976890635,\n",
              " 0.10880455454106171,\n",
              " 0.10880351056521821,\n",
              " 0.10880246575974815,\n",
              " 0.10880142012286342,\n",
              " 0.10880037365277317,\n",
              " 0.10879932634768326,\n",
              " 0.10879827820579667,\n",
              " 0.10879722922531322,\n",
              " 0.10879617940442982,\n",
              " 0.10879512874134008,\n",
              " 0.10879407723423466,\n",
              " 0.1087930248813011,\n",
              " 0.10879197168072381,\n",
              " 0.10879091763068409,\n",
              " 0.10878986272935999,\n",
              " 0.10878880697492661,\n",
              " 0.10878775036555573,\n",
              " 0.108786692899416,\n",
              " 0.10878563457467283,\n",
              " 0.10878457538948866,\n",
              " 0.10878351534202237,\n",
              " 0.10878245443042985,\n",
              " 0.10878139265286367,\n",
              " 0.10878033000747321,\n",
              " 0.1087792664924046,\n",
              " 0.10877820210580062,\n",
              " 0.10877713684580081,\n",
              " 0.10877607071054148,\n",
              " 0.10877500369815556,\n",
              " 0.10877393580677265,\n",
              " 0.1087728670345191,\n",
              " 0.10877179737951786,\n",
              " 0.10877072683988859,\n",
              " 0.10876965541374749,\n",
              " 0.10876858309920755,\n",
              " 0.10876750989437815,\n",
              " 0.10876643579736549,\n",
              " 0.10876536080627225,\n",
              " 0.10876428491919772,\n",
              " 0.10876320813423775,\n",
              " 0.10876213044948475,\n",
              " 0.10876105186302772,\n",
              " 0.1087599723729521,\n",
              " 0.10875889197733994,\n",
              " 0.10875781067426976,\n",
              " 0.10875672846181661,\n",
              " 0.10875564533805203,\n",
              " 0.10875456130104404,\n",
              " 0.10875347634885703,\n",
              " 0.10875239047955194,\n",
              " 0.10875130369118624,\n",
              " 0.10875021598181363,\n",
              " 0.10874912734948433,\n",
              " 0.10874803779224508,\n",
              " 0.10874694730813879,\n",
              " 0.10874585589520493,\n",
              " 0.10874476355147929,\n",
              " 0.108743670274994,\n",
              " 0.10874257606377757,\n",
              " 0.1087414809158549,\n",
              " 0.10874038482924707,\n",
              " 0.10873928780197163,\n",
              " 0.10873818983204232,\n",
              " 0.1087370909174693,\n",
              " 0.1087359910562589,\n",
              " 0.10873489024641375,\n",
              " 0.10873378848593272,\n",
              " 0.10873268577281103,\n",
              " 0.10873158210503998,\n",
              " 0.10873047748060727,\n",
              " 0.1087293718974966,\n",
              " 0.10872826535368801,\n",
              " 0.10872715784715774,\n",
              " 0.10872604937587814,\n",
              " 0.10872493993781772,\n",
              " 0.10872382953094122,\n",
              " 0.10872271815320943,\n",
              " 0.10872160580257935,\n",
              " 0.10872049247700401,\n",
              " 0.1087193781744326,\n",
              " 0.10871826289281043,\n",
              " 0.10871714663007881,\n",
              " 0.10871602938417517,\n",
              " 0.108714911153033,\n",
              " 0.10871379193458179,\n",
              " 0.10871267172674715,\n",
              " 0.10871155052745059,\n",
              " 0.10871042833460974,\n",
              " 0.10870930514613815,\n",
              " 0.10870818095994535,\n",
              " 0.10870705577393691,\n",
              " 0.10870592958601434,\n",
              " 0.10870480239407504,\n",
              " 0.10870367419601239,\n",
              " 0.10870254498971571,\n",
              " 0.10870141477307016,\n",
              " 0.10870028354395683,\n",
              " 0.10869915130025276,\n",
              " 0.10869801803983077,\n",
              " 0.10869688376055962,\n",
              " 0.10869574846030385,\n",
              " 0.10869461213692383,\n",
              " 0.1086934747882758,\n",
              " 0.10869233641221182,\n",
              " 0.10869119700657968,\n",
              " 0.108690056569223,\n",
              " 0.10868891509798122,\n",
              " 0.10868777259068936,\n",
              " 0.10868662904517849,\n",
              " 0.10868548445927508,\n",
              " 0.10868433883080152,\n",
              " 0.10868319215757587,\n",
              " 0.1086820444374119,\n",
              " 0.108680895668119,\n",
              " 0.10867974584750228,\n",
              " 0.10867859497336253,\n",
              " 0.10867744304349607,\n",
              " 0.10867629005569497,\n",
              " 0.10867513600774693,\n",
              " 0.10867398089743512,\n",
              " 0.1086728247225384,\n",
              " 0.10867166748083114,\n",
              " 0.1086705091700834,\n",
              " 0.1086693497880607,\n",
              " 0.10866818933252402,\n",
              " 0.10866702780123005,\n",
              " 0.10866586519193085,\n",
              " 0.10866470150237402,\n",
              " 0.10866353673030266,\n",
              " 0.1086623708734553,\n",
              " 0.10866120392956598,\n",
              " 0.10866003589636412,\n",
              " 0.10865886677157456,\n",
              " 0.10865769655291774,\n",
              " 0.10865652523810924,\n",
              " 0.1086553528248602,\n",
              " 0.10865417931087708,\n",
              " 0.10865300469386169,\n",
              " 0.1086518289715112,\n",
              " 0.10865065214151813,\n",
              " 0.1086494742015703,\n",
              " 0.10864829514935087,\n",
              " 0.10864711498253819,\n",
              " 0.10864593369880604,\n",
              " 0.10864475129582335,\n",
              " 0.10864356777125429,\n",
              " 0.10864238312275837,\n",
              " 0.10864119734799021,\n",
              " 0.10864001044459974,\n",
              " 0.10863882241023198,\n",
              " 0.10863763324252716,\n",
              " 0.10863644293912071,\n",
              " 0.10863525149764323,\n",
              " 0.10863405891572027,\n",
              " 0.10863286519097283,\n",
              " 0.10863167032101669,\n",
              " 0.10863047430346294,\n",
              " 0.10862927713591758,\n",
              " 0.1086280788159818,\n",
              " 0.10862687934125176,\n",
              " 0.10862567870931876,\n",
              " 0.10862447691776894,\n",
              " 0.10862327396418354,\n",
              " 0.10862206984613891,\n",
              " 0.10862086456120618,\n",
              " 0.1086196581069515,\n",
              " 0.10861845048093594,\n",
              " 0.10861724168071558,\n",
              " 0.10861603170384133,\n",
              " 0.10861482054785909,\n",
              " 0.10861360821030948,\n",
              " 0.10861239468872819,\n",
              " 0.10861117998064555,\n",
              " 0.10860996408358692,\n",
              " 0.10860874699507232,\n",
              " 0.10860752871261671,\n",
              " 0.10860630923372976,\n",
              " 0.1086050885559159,\n",
              " 0.10860386667667436,\n",
              " 0.10860264359349914,\n",
              " 0.10860141930387886,\n",
              " 0.10860019380529697,\n",
              " 0.10859896709523154,\n",
              " 0.10859773917115534,\n",
              " 0.10859651003053582,\n",
              " 0.10859527967083506,\n",
              " 0.10859404808950977,\n",
              " 0.10859281528401125,\n",
              " 0.10859158125178547]"
            ]
          },
          "metadata": {},
          "execution_count": 30
        }
      ]
    },
    {
      "cell_type": "code",
      "source": [
        "plt.plot(np.arange(1,epochs+1), np.array(error_epochs))"
      ],
      "metadata": {
        "id": "vQQADDO8kaFP",
        "colab": {
          "base_uri": "https://localhost:8080/",
          "height": 282
        },
        "outputId": "513a7161-52d1-4c48-cc6a-e393f4614f7c"
      },
      "execution_count": 31,
      "outputs": [
        {
          "output_type": "execute_result",
          "data": {
            "text/plain": [
              "[<matplotlib.lines.Line2D at 0x7fab354c7a10>]"
            ]
          },
          "metadata": {},
          "execution_count": 31
        },
        {
          "output_type": "display_data",
          "data": {
            "image/png": "[encoded data removed]",
            "text/plain": [
              "<Figure size 432x288 with 1 Axes>"
            ]
          },
          "metadata": {
            "needs_background": "light"
          }
        }
      ]
    },
    {
      "cell_type": "code",
      "source": [
        "# final output from the model\n",
        "output"
      ],
      "metadata": {
        "colab": {
          "base_uri": "https://localhost:8080/"
        },
        "id": "O7y4Kmwtn3gv",
        "outputId": "bba09fdd-34e7-4d16-9bb9-b546d11f8edd"
      },
      "execution_count": 32,
      "outputs": [
        {
          "output_type": "execute_result",
          "data": {
            "text/plain": [
              "array([[0.67712712, 0.65757333, 0.67660674, 0.6809165 , 0.67609516,\n",
              "        0.67914606]])"
            ]
          },
          "metadata": {},
          "execution_count": 32
        }
      ]
    },
    {
      "cell_type": "code",
      "source": [
        "# actual target\n",
        "Y"
      ],
      "metadata": {
        "colab": {
          "base_uri": "https://localhost:8080/"
        },
        "id": "jQxxsqgpn5Pn",
        "outputId": "2f2c4d95-a1c6-4be3-e851-2a3f31f4c3a7"
      },
      "execution_count": 33,
      "outputs": [
        {
          "output_type": "execute_result",
          "data": {
            "text/plain": [
              "array([[1, 0, 1, 1, 0, 1]])"
            ]
          },
          "metadata": {},
          "execution_count": 33
        }
      ]
    },
    {
      "cell_type": "code",
      "source": [
        "# error at last epoch\n",
        "error"
      ],
      "metadata": {
        "colab": {
          "base_uri": "https://localhost:8080/"
        },
        "id": "UZHk4Woxn61o",
        "outputId": "4ab7a713-4f14-467a-9422-a8f17678ecba"
      },
      "execution_count": 34,
      "outputs": [
        {
          "output_type": "execute_result",
          "data": {
            "text/plain": [
              "array([[0.05212345, 0.21620134, 0.0522916 , 0.05090714, 0.22855233,\n",
              "        0.05147363]])"
            ]
          },
          "metadata": {},
          "execution_count": 34
        }
      ]
    }
  ]
}